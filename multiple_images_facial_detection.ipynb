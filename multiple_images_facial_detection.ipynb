{
  "nbformat": 4,
  "nbformat_minor": 0,
  "metadata": {
    "colab": {
      "provenance": [],
      "authorship_tag": "ABX9TyPDOlBqw80ggt3B+rpTLukl",
      "include_colab_link": true
    },
    "kernelspec": {
      "name": "python3",
      "display_name": "Python 3"
    },
    "language_info": {
      "name": "python"
    }
  },
  "cells": [
    {
      "cell_type": "markdown",
      "metadata": {
        "id": "view-in-github",
        "colab_type": "text"
      },
      "source": [
        "<a href=\"https://colab.research.google.com/github/oskarmalmwiklund/affective-computing-project/blob/main/multiple_images_facial_detection.ipynb\" target=\"_parent\"><img src=\"https://colab.research.google.com/assets/colab-badge.svg\" alt=\"Open In Colab\"/></a>"
      ]
    },
    {
      "cell_type": "code",
      "source": [
        "pip install pandas matplotlib py-feat"
      ],
      "metadata": {
        "colab": {
          "base_uri": "https://localhost:8080/"
        },
        "id": "nbz2DYcmJSPG",
        "outputId": "d3144907-4e56-497d-dd28-79610d6d28f2"
      },
      "execution_count": 2,
      "outputs": [
        {
          "output_type": "stream",
          "name": "stdout",
          "text": [
            "Requirement already satisfied: pandas in /usr/local/lib/python3.10/dist-packages (1.5.3)\n",
            "Requirement already satisfied: matplotlib in /usr/local/lib/python3.10/dist-packages (3.7.1)\n",
            "Collecting py-feat\n",
            "  Downloading py_feat-0.6.0-py2.py3-none-any.whl (7.9 MB)\n",
            "\u001b[2K     \u001b[90m━━━━━━━━━━━━━━━━━━━━━━━━━━━━━━━━━━━━━━━━\u001b[0m \u001b[32m7.9/7.9 MB\u001b[0m \u001b[31m6.9 MB/s\u001b[0m eta \u001b[36m0:00:00\u001b[0m\n",
            "\u001b[?25hRequirement already satisfied: python-dateutil>=2.8.1 in /usr/local/lib/python3.10/dist-packages (from pandas) (2.8.2)\n",
            "Requirement already satisfied: pytz>=2020.1 in /usr/local/lib/python3.10/dist-packages (from pandas) (2022.7.1)\n",
            "Requirement already satisfied: numpy>=1.21.0 in /usr/local/lib/python3.10/dist-packages (from pandas) (1.22.4)\n",
            "Requirement already satisfied: contourpy>=1.0.1 in /usr/local/lib/python3.10/dist-packages (from matplotlib) (1.1.0)\n",
            "Requirement already satisfied: cycler>=0.10 in /usr/local/lib/python3.10/dist-packages (from matplotlib) (0.11.0)\n",
            "Requirement already satisfied: fonttools>=4.22.0 in /usr/local/lib/python3.10/dist-packages (from matplotlib) (4.40.0)\n",
            "Requirement already satisfied: kiwisolver>=1.0.1 in /usr/local/lib/python3.10/dist-packages (from matplotlib) (1.4.4)\n",
            "Requirement already satisfied: packaging>=20.0 in /usr/local/lib/python3.10/dist-packages (from matplotlib) (23.1)\n",
            "Requirement already satisfied: pillow>=6.2.0 in /usr/local/lib/python3.10/dist-packages (from matplotlib) (8.4.0)\n",
            "Requirement already satisfied: pyparsing>=2.3.1 in /usr/local/lib/python3.10/dist-packages (from matplotlib) (3.1.0)\n",
            "Requirement already satisfied: seaborn>=0.7.0 in /usr/local/lib/python3.10/dist-packages (from py-feat) (0.12.2)\n",
            "Collecting nltools>=0.4.7 (from py-feat)\n",
            "  Downloading nltools-0.4.7-py2.py3-none-any.whl (3.3 MB)\n",
            "\u001b[2K     \u001b[90m━━━━━━━━━━━━━━━━━━━━━━━━━━━━━━━━━━━━━━━━\u001b[0m \u001b[32m3.3/3.3 MB\u001b[0m \u001b[31m58.0 MB/s\u001b[0m eta \u001b[36m0:00:00\u001b[0m\n",
            "\u001b[?25hRequirement already satisfied: scikit-learn>=1.0 in /usr/local/lib/python3.10/dist-packages (from py-feat) (1.2.2)\n",
            "Requirement already satisfied: pywavelets>=0.3.0 in /usr/local/lib/python3.10/dist-packages (from py-feat) (1.4.1)\n",
            "Requirement already satisfied: h5py>=2.7.0 in /usr/local/lib/python3.10/dist-packages (from py-feat) (3.8.0)\n",
            "Requirement already satisfied: torchvision in /usr/local/lib/python3.10/dist-packages (from py-feat) (0.15.2+cu118)\n",
            "Requirement already satisfied: scikit-image>=0.19 in /usr/local/lib/python3.10/dist-packages (from py-feat) (0.19.3)\n",
            "Requirement already satisfied: joblib in /usr/local/lib/python3.10/dist-packages (from py-feat) (1.3.1)\n",
            "Collecting easing-functions (from py-feat)\n",
            "  Downloading easing_functions-1.0.4-py3-none-any.whl (15 kB)\n",
            "Collecting celluloid (from py-feat)\n",
            "  Downloading celluloid-0.2.0-py3-none-any.whl (5.4 kB)\n",
            "Requirement already satisfied: tqdm in /usr/local/lib/python3.10/dist-packages (from py-feat) (4.65.0)\n",
            "Collecting kornia (from py-feat)\n",
            "  Downloading kornia-0.6.12-py2.py3-none-any.whl (653 kB)\n",
            "\u001b[2K     \u001b[90m━━━━━━━━━━━━━━━━━━━━━━━━━━━━━━━━━━━━━━\u001b[0m \u001b[32m653.4/653.4 kB\u001b[0m \u001b[31m39.0 MB/s\u001b[0m eta \u001b[36m0:00:00\u001b[0m\n",
            "\u001b[?25hCollecting av>=9.2.0 (from py-feat)\n",
            "  Downloading av-10.0.0-cp310-cp310-manylinux_2_17_x86_64.manylinux2014_x86_64.whl (31.0 MB)\n",
            "\u001b[2K     \u001b[90m━━━━━━━━━━━━━━━━━━━━━━━━━━━━━━━━━━━━━━━━\u001b[0m \u001b[32m31.0/31.0 MB\u001b[0m \u001b[31m36.2 MB/s\u001b[0m eta \u001b[36m0:00:00\u001b[0m\n",
            "\u001b[?25hRequirement already satisfied: xgboost>=1.6.0 in /usr/local/lib/python3.10/dist-packages (from py-feat) (1.7.6)\n",
            "Requirement already satisfied: nibabel>=3.0.1 in /usr/local/lib/python3.10/dist-packages (from nltools>=0.4.7->py-feat) (3.0.2)\n",
            "Collecting nilearn>=0.6.0 (from nltools>=0.4.7->py-feat)\n",
            "  Downloading nilearn-0.10.1-py3-none-any.whl (10.3 MB)\n",
            "\u001b[2K     \u001b[90m━━━━━━━━━━━━━━━━━━━━━━━━━━━━━━━━━━━━━━━━\u001b[0m \u001b[32m10.3/10.3 MB\u001b[0m \u001b[31m44.5 MB/s\u001b[0m eta \u001b[36m0:00:00\u001b[0m\n",
            "\u001b[?25hRequirement already satisfied: scipy in /usr/local/lib/python3.10/dist-packages (from nltools>=0.4.7->py-feat) (1.10.1)\n",
            "Collecting pynv (from nltools>=0.4.7->py-feat)\n",
            "  Downloading pynv-0.2-py3-none-any.whl (3.6 kB)\n",
            "Collecting deepdish>=0.3.6 (from nltools>=0.4.7->py-feat)\n",
            "  Downloading deepdish-0.3.7-py2.py3-none-any.whl (37 kB)\n",
            "Requirement already satisfied: six>=1.5 in /usr/local/lib/python3.10/dist-packages (from python-dateutil>=2.8.1->pandas) (1.16.0)\n",
            "Requirement already satisfied: networkx>=2.2 in /usr/local/lib/python3.10/dist-packages (from scikit-image>=0.19->py-feat) (3.1)\n",
            "Requirement already satisfied: imageio>=2.4.1 in /usr/local/lib/python3.10/dist-packages (from scikit-image>=0.19->py-feat) (2.25.1)\n",
            "Requirement already satisfied: tifffile>=2019.7.26 in /usr/local/lib/python3.10/dist-packages (from scikit-image>=0.19->py-feat) (2023.7.4)\n",
            "Requirement already satisfied: threadpoolctl>=2.0.0 in /usr/local/lib/python3.10/dist-packages (from scikit-learn>=1.0->py-feat) (3.1.0)\n",
            "Requirement already satisfied: torch>=1.9.1 in /usr/local/lib/python3.10/dist-packages (from kornia->py-feat) (2.0.1+cu118)\n",
            "Requirement already satisfied: requests in /usr/local/lib/python3.10/dist-packages (from torchvision->py-feat) (2.27.1)\n",
            "Requirement already satisfied: filelock in /usr/local/lib/python3.10/dist-packages (from torch>=1.9.1->kornia->py-feat) (3.12.2)\n",
            "Requirement already satisfied: typing-extensions in /usr/local/lib/python3.10/dist-packages (from torch>=1.9.1->kornia->py-feat) (4.7.1)\n",
            "Requirement already satisfied: sympy in /usr/local/lib/python3.10/dist-packages (from torch>=1.9.1->kornia->py-feat) (1.11.1)\n",
            "Requirement already satisfied: jinja2 in /usr/local/lib/python3.10/dist-packages (from torch>=1.9.1->kornia->py-feat) (3.1.2)\n",
            "Requirement already satisfied: triton==2.0.0 in /usr/local/lib/python3.10/dist-packages (from torch>=1.9.1->kornia->py-feat) (2.0.0)\n",
            "Requirement already satisfied: cmake in /usr/local/lib/python3.10/dist-packages (from triton==2.0.0->torch>=1.9.1->kornia->py-feat) (3.25.2)\n",
            "Requirement already satisfied: lit in /usr/local/lib/python3.10/dist-packages (from triton==2.0.0->torch>=1.9.1->kornia->py-feat) (16.0.6)\n",
            "Requirement already satisfied: tables in /usr/local/lib/python3.10/dist-packages (from deepdish>=0.3.6->nltools>=0.4.7->py-feat) (3.8.0)\n",
            "Requirement already satisfied: lxml in /usr/local/lib/python3.10/dist-packages (from nilearn>=0.6.0->nltools>=0.4.7->py-feat) (4.9.3)\n",
            "Collecting nibabel>=3.0.1 (from nltools>=0.4.7->py-feat)\n",
            "  Downloading nibabel-5.1.0-py3-none-any.whl (3.3 MB)\n",
            "\u001b[2K     \u001b[90m━━━━━━━━━━━━━━━━━━━━━━━━━━━━━━━━━━━━━━━━\u001b[0m \u001b[32m3.3/3.3 MB\u001b[0m \u001b[31m76.5 MB/s\u001b[0m eta \u001b[36m0:00:00\u001b[0m\n",
            "\u001b[?25hRequirement already satisfied: urllib3<1.27,>=1.21.1 in /usr/local/lib/python3.10/dist-packages (from requests->torchvision->py-feat) (1.26.16)\n",
            "Requirement already satisfied: certifi>=2017.4.17 in /usr/local/lib/python3.10/dist-packages (from requests->torchvision->py-feat) (2023.5.7)\n",
            "Requirement already satisfied: charset-normalizer~=2.0.0 in /usr/local/lib/python3.10/dist-packages (from requests->torchvision->py-feat) (2.0.12)\n",
            "Requirement already satisfied: idna<4,>=2.5 in /usr/local/lib/python3.10/dist-packages (from requests->torchvision->py-feat) (3.4)\n",
            "Requirement already satisfied: MarkupSafe>=2.0 in /usr/local/lib/python3.10/dist-packages (from jinja2->torch>=1.9.1->kornia->py-feat) (2.1.3)\n",
            "Requirement already satisfied: mpmath>=0.19 in /usr/local/lib/python3.10/dist-packages (from sympy->torch>=1.9.1->kornia->py-feat) (1.3.0)\n",
            "Requirement already satisfied: cython>=0.29.21 in /usr/local/lib/python3.10/dist-packages (from tables->deepdish>=0.3.6->nltools>=0.4.7->py-feat) (0.29.36)\n",
            "Requirement already satisfied: numexpr>=2.6.2 in /usr/local/lib/python3.10/dist-packages (from tables->deepdish>=0.3.6->nltools>=0.4.7->py-feat) (2.8.4)\n",
            "Requirement already satisfied: blosc2~=2.0.0 in /usr/local/lib/python3.10/dist-packages (from tables->deepdish>=0.3.6->nltools>=0.4.7->py-feat) (2.0.0)\n",
            "Requirement already satisfied: py-cpuinfo in /usr/local/lib/python3.10/dist-packages (from tables->deepdish>=0.3.6->nltools>=0.4.7->py-feat) (9.0.0)\n",
            "Requirement already satisfied: msgpack in /usr/local/lib/python3.10/dist-packages (from blosc2~=2.0.0->tables->deepdish>=0.3.6->nltools>=0.4.7->py-feat) (1.0.5)\n",
            "Installing collected packages: easing-functions, av, nibabel, pynv, nilearn, deepdish, celluloid, nltools, kornia, py-feat\n",
            "  Attempting uninstall: nibabel\n",
            "    Found existing installation: nibabel 3.0.2\n",
            "    Uninstalling nibabel-3.0.2:\n",
            "      Successfully uninstalled nibabel-3.0.2\n",
            "Successfully installed av-10.0.0 celluloid-0.2.0 deepdish-0.3.7 easing-functions-1.0.4 kornia-0.6.12 nibabel-5.1.0 nilearn-0.10.1 nltools-0.4.7 py-feat-0.6.0 pynv-0.2\n"
          ]
        }
      ]
    },
    {
      "cell_type": "code",
      "source": [
        "import pandas as pd"
      ],
      "metadata": {
        "id": "d6mktQK7GLNM"
      },
      "execution_count": 3,
      "outputs": []
    },
    {
      "cell_type": "code",
      "source": [
        "from glob import glob"
      ],
      "metadata": {
        "id": "pulSLpOfJrRa"
      },
      "execution_count": 4,
      "outputs": []
    },
    {
      "cell_type": "code",
      "source": [
        "import os\n",
        "import pandas as pd\n",
        "import matplotlib.pyplot as plt\n",
        "from feat import Detector\n",
        "from feat.plotting import plot_face\n",
        "from glob import glob\n",
        "\n",
        "detector = Detector(\n",
        "    face_model=\"retinaface\",\n",
        "    landmark_model=\"mobilefacenet\",\n",
        "    au_model='xgb',\n",
        "    emotion_model=\"resmasknet\",\n",
        "    facepose_model=\"img2pose\",\n",
        ")\n"
      ],
      "metadata": {
        "id": "5sk_vWXaC11Z",
        "colab": {
          "base_uri": "https://localhost:8080/"
        },
        "outputId": "0a831749-72d1-403b-b666-8cb0b03c1b84"
      },
      "execution_count": 5,
      "outputs": [
        {
          "output_type": "stream",
          "name": "stderr",
          "text": [
            "100%|██████████| 1786259/1786259 [00:00<00:00, 42718826.73it/s]\n",
            "100%|██████████| 12281146/12281146 [00:00<00:00, 165665464.24it/s]\n",
            "100%|██████████| 965545/965545 [00:00<00:00, 30136845.18it/s]\n",
            "100%|██████████| 33635572/33635572 [00:00<00:00, 98725197.91it/s] \n",
            "100%|██████████| 130263/130263 [00:00<00:00, 7878790.73it/s]\n",
            "100%|██████████| 45886076/45886076 [00:00<00:00, 58664713.45it/s]\n",
            "100%|██████████| 130263/130263 [00:00<00:00, 8272205.40it/s]\n",
            "100%|██████████| 53851068/53851068 [00:00<00:00, 155007051.40it/s]\n",
            "100%|██████████| 130263/130263 [00:00<00:00, 10163184.25it/s]\n",
            "100%|██████████| 166975/166975 [00:00<00:00, 11171184.69it/s]\n",
            "100%|██████████| 530776/530776 [00:00<00:00, 20170113.16it/s]\n",
            "100%|██████████| 493515/493515 [00:00<00:00, 20309974.08it/s]\n",
            "100%|██████████| 207163/207163 [00:00<00:00, 10540865.19it/s]\n",
            "100%|██████████| 1151853/1151853 [00:00<00:00, 28758983.54it/s]\n",
            "100%|██████████| 572282/572282 [00:00<00:00, 16658509.83it/s]\n",
            "100%|██████████| 330487/330487 [00:00<00:00, 14608411.45it/s]\n",
            "100%|██████████| 335449/335449 [00:00<00:00, 13174664.14it/s]\n",
            "100%|██████████| 586893/586893 [00:00<00:00, 20299742.36it/s]\n",
            "100%|██████████| 206931/206931 [00:00<00:00, 10280747.20it/s]\n",
            "100%|██████████| 689547/689547 [00:00<00:00, 24543191.96it/s]\n",
            "100%|██████████| 583629/583629 [00:00<00:00, 16478966.05it/s]\n",
            "100%|██████████| 207077/207077 [00:00<00:00, 9477884.85it/s]\n",
            "100%|██████████| 256865/256865 [00:00<00:00, 12300568.54it/s]\n",
            "100%|██████████| 1079268/1079268 [00:00<00:00, 29855878.07it/s]\n",
            "100%|██████████| 1952633/1952633 [00:00<00:00, 38059624.43it/s]\n",
            "100%|██████████| 312240/312240 [00:00<00:00, 14158309.61it/s]\n",
            "100%|██████████| 524139/524139 [00:00<00:00, 21086539.90it/s]\n",
            "100%|██████████| 77744/77744 [00:00<00:00, 9079016.88it/s]\n",
            "100%|██████████| 551634217/551634217 [00:07<00:00, 71184727.24it/s]\n",
            "100%|██████████| 448/448 [00:00<00:00, 432462.18it/s]\n",
            "100%|██████████| 944/944 [00:00<00:00, 690757.67it/s]\n",
            "100%|██████████| 169843940/169843940 [00:02<00:00, 83266722.13it/s]\n",
            "100%|██████████| 176/176 [00:00<00:00, 129281.52it/s]\n",
            "100%|██████████| 176/176 [00:00<00:00, 164080.35it/s]\n",
            "Downloading: \"https://download.pytorch.org/models/resnet18-f37072fd.pth\" to /root/.cache/torch/hub/checkpoints/resnet18-f37072fd.pth\n",
            "100%|██████████| 44.7M/44.7M [00:00<00:00, 169MB/s]\n"
          ]
        }
      ]
    },
    {
      "cell_type": "code",
      "source": [
        "# Directory containing your images\n",
        "image_dir = \"images/\""
      ],
      "metadata": {
        "id": "wyBI0FKtDQFm"
      },
      "execution_count": null,
      "outputs": []
    },
    {
      "cell_type": "code",
      "source": [
        "# Get all image paths\n",
        "image_paths = glob(os.path.join(image_dir, \"*.jpeg\"))  # adjust the extension as needed"
      ],
      "metadata": {
        "id": "3DBVpOcNDu_g"
      },
      "execution_count": null,
      "outputs": []
    },
    {
      "cell_type": "code",
      "source": [
        "# Run the detector on all images and store the results\n",
        "predictions = []\n",
        "for image_path in image_paths:\n",
        "    prediction = detector.detect_image(image_path)\n",
        "    predictions.append(prediction)"
      ],
      "metadata": {
        "colab": {
          "base_uri": "https://localhost:8080/"
        },
        "id": "8NNpkk1MDvuk",
        "outputId": "2c582c67-84e4-4dcf-9b8f-3a488c97090a"
      },
      "execution_count": null,
      "outputs": [
        {
          "output_type": "stream",
          "name": "stderr",
          "text": [
            "100%|██████████| 1/1 [00:06<00:00,  6.28s/it]\n",
            "100%|██████████| 1/1 [00:04<00:00,  4.71s/it]\n",
            "100%|██████████| 1/1 [00:05<00:00,  5.53s/it]\n",
            "100%|██████████| 1/1 [00:05<00:00,  5.13s/it]\n",
            "100%|██████████| 1/1 [00:04<00:00,  4.63s/it]\n",
            "100%|██████████| 1/1 [00:06<00:00,  6.13s/it]\n",
            "100%|██████████| 1/1 [00:04<00:00,  4.67s/it]\n",
            "100%|██████████| 1/1 [00:04<00:00,  4.63s/it]\n",
            "100%|██████████| 1/1 [00:06<00:00,  6.03s/it]\n",
            "100%|██████████| 1/1 [00:05<00:00,  5.10s/it]\n",
            "100%|██████████| 1/1 [00:05<00:00,  5.79s/it]\n",
            "100%|██████████| 1/1 [00:04<00:00,  4.85s/it]\n",
            "100%|██████████| 1/1 [00:04<00:00,  4.68s/it]\n",
            "100%|██████████| 1/1 [00:06<00:00,  6.14s/it]\n",
            "100%|██████████| 1/1 [00:05<00:00,  5.57s/it]\n",
            "100%|██████████| 1/1 [00:05<00:00,  5.52s/it]\n",
            "100%|██████████| 1/1 [00:05<00:00,  5.13s/it]\n",
            "100%|██████████| 1/1 [00:04<00:00,  4.69s/it]\n",
            "100%|██████████| 1/1 [00:06<00:00,  6.11s/it]\n",
            "100%|██████████| 1/1 [00:04<00:00,  4.66s/it]\n",
            "100%|██████████| 1/1 [00:04<00:00,  4.66s/it]\n",
            "100%|██████████| 1/1 [00:05<00:00,  5.95s/it]\n",
            "100%|██████████| 1/1 [00:04<00:00,  4.66s/it]\n",
            "100%|██████████| 1/1 [00:05<00:00,  5.70s/it]\n",
            "100%|██████████| 1/1 [00:05<00:00,  5.01s/it]\n",
            "100%|██████████| 1/1 [00:04<00:00,  4.69s/it]\n",
            "100%|██████████| 1/1 [00:06<00:00,  6.13s/it]\n",
            "100%|██████████| 1/1 [00:04<00:00,  4.64s/it]\n",
            "100%|██████████| 1/1 [00:04<00:00,  4.64s/it]\n",
            "100%|██████████| 1/1 [00:06<00:00,  6.18s/it]\n",
            "100%|██████████| 1/1 [00:04<00:00,  4.63s/it]\n",
            "100%|██████████| 1/1 [00:05<00:00,  5.81s/it]\n",
            "100%|██████████| 1/1 [00:04<00:00,  4.88s/it]\n",
            "100%|██████████| 1/1 [00:04<00:00,  4.62s/it]\n",
            "100%|██████████| 1/1 [00:06<00:00,  6.14s/it]\n",
            "100%|██████████| 1/1 [00:04<00:00,  4.65s/it]\n",
            "100%|██████████| 1/1 [00:04<00:00,  4.73s/it]\n",
            "100%|██████████| 1/1 [00:05<00:00,  5.79s/it]\n",
            "100%|██████████| 1/1 [00:04<00:00,  4.61s/it]\n",
            "100%|██████████| 1/1 [00:05<00:00,  5.82s/it]\n",
            "100%|██████████| 1/1 [00:04<00:00,  4.91s/it]\n",
            "100%|██████████| 1/1 [00:04<00:00,  4.64s/it]\n",
            "100%|██████████| 1/1 [00:06<00:00,  6.10s/it]\n",
            "100%|██████████| 1/1 [00:04<00:00,  4.62s/it]\n",
            "100%|██████████| 1/1 [00:04<00:00,  4.68s/it]\n",
            "100%|██████████| 1/1 [00:05<00:00,  5.81s/it]\n",
            "100%|██████████| 1/1 [00:04<00:00,  4.66s/it]\n",
            "100%|██████████| 1/1 [00:05<00:00,  5.84s/it]\n",
            "100%|██████████| 1/1 [00:04<00:00,  4.89s/it]\n",
            "100%|██████████| 1/1 [00:04<00:00,  4.63s/it]\n"
          ]
        }
      ]
    },
    {
      "cell_type": "code",
      "source": [
        "# Concatenate all predictions\n",
        "all_predictions = pd.concat(predictions)"
      ],
      "metadata": {
        "id": "15KchJ9ND0So"
      },
      "execution_count": null,
      "outputs": []
    },
    {
      "cell_type": "code",
      "source": [
        "# Save the concatenated predictions to a CSV file\n",
        "all_predictions.to_csv(\"all_predictions.csv\")"
      ],
      "metadata": {
        "id": "NtjnqMoPD2OU"
      },
      "execution_count": null,
      "outputs": []
    },
    {
      "cell_type": "code",
      "source": [
        "# Calculate the mean of the facial expressions and action units\n",
        "mean_values = all_predictions.mean(numeric_only=True)"
      ],
      "metadata": {
        "colab": {
          "base_uri": "https://localhost:8080/"
        },
        "id": "P9QqNJICGe3I",
        "outputId": "864a16ab-3309-44db-ba81-1d9559d5c492"
      },
      "execution_count": null,
      "outputs": [
        {
          "output_type": "stream",
          "name": "stderr",
          "text": [
            "<ipython-input-29-e1f9bf4f47ac>:2: FutureWarning: The default value of numeric_only in Fex.mean is deprecated. In a future version, it will default to False. In addition, specifying 'numeric_only=None' is deprecated. Select only valid columns or specify the value of numeric_only to silence this warning.\n",
            "  mean_values = all_predictions.mean()\n"
          ]
        }
      ]
    },
    {
      "cell_type": "code",
      "source": [
        "# Calculate the mean of the facial expressions and action units\n",
        "mean_values = all_predictions.mean()\n",
        "\n",
        "# Convert the Series to a DataFrame and transpose it\n",
        "mean_values_df = mean_values.to_frame().T\n",
        "\n",
        "# Save the mean values to a CSV file\n",
        "mean_values_df.to_csv(\"mean_values.csv\", index=False)"
      ],
      "metadata": {
        "colab": {
          "base_uri": "https://localhost:8080/"
        },
        "id": "dIJHC_X6Iqkt",
        "outputId": "d6d6537d-2940-4ecc-d4af-442767db136a"
      },
      "execution_count": null,
      "outputs": [
        {
          "output_type": "stream",
          "name": "stderr",
          "text": [
            "<ipython-input-32-83321a643ca3>:2: FutureWarning: The default value of numeric_only in Fex.mean is deprecated. In a future version, it will default to False. In addition, specifying 'numeric_only=None' is deprecated. Select only valid columns or specify the value of numeric_only to silence this warning.\n",
            "  mean_values = all_predictions.mean()\n"
          ]
        }
      ]
    },
    {
      "cell_type": "code",
      "source": [
        "# Filter for action units only\n",
        "au_columns = [col for col in all_predictions.columns if 'AU' in col]\n",
        "mean_au_values = mean_values[au_columns]\n",
        "\n",
        "# Plot the mean of detected action units as a bar graph\n",
        "mean_au_values.plot(kind='bar')\n",
        "plt.title(\"Mean of Detected Action Units\")\n",
        "plt.xlabel(\"Action Units\")\n",
        "plt.ylabel(\"Mean Value\")\n",
        "plt.savefig(\"mean_au_values.png\")"
      ],
      "metadata": {
        "colab": {
          "base_uri": "https://localhost:8080/",
          "height": 495
        },
        "id": "Ek6Qq8OnIsBA",
        "outputId": "d1cdcf79-a916-4ab0-f5bd-7e4f6b167a6a"
      },
      "execution_count": null,
      "outputs": [
        {
          "output_type": "display_data",
          "data": {
            "text/plain": [
              "<Figure size 640x480 with 1 Axes>"
            ],
            "image/png": "[encoded data removed]"
          },
          "metadata": {}
        }
      ]
    },
    {
      "cell_type": "code",
      "source": [
        "from feat.plotting import plot_face\n",
        "\n",
        "plot_face(\n",
        "    au=models['aus'][1].coef_.squeeze(), # the LDA coefs from the AUs pipeline model\n",
        "    feature_range=(0, 1),\n",
        "    muscles={\"all\": \"heatmap\"},\n",
        "    title=\"Expression reconstructed from\\nAU classifier weights\",\n",
        "    title_kwargs={'wrap':False}\n",
        ");\n",
        "sns.despine(left=True,bottom=True);\n",
        "\n",
        "plt.savefig('./fig_maker/weights.pdf', bbox_inches='tight');"
      ],
      "metadata": {
        "colab": {
          "base_uri": "https://localhost:8080/",
          "height": 383
        },
        "id": "Hg2nfywsRKCS",
        "outputId": "38565022-de9c-4a7d-a8d1-94dbedac0a2b"
      },
      "execution_count": 1,
      "outputs": [
        {
          "output_type": "error",
          "ename": "ModuleNotFoundError",
          "evalue": "ignored",
          "traceback": [
            "\u001b[0;31m---------------------------------------------------------------------------\u001b[0m",
            "\u001b[0;31mModuleNotFoundError\u001b[0m                       Traceback (most recent call last)",
            "\u001b[0;32m<ipython-input-1-cd8240903853>\u001b[0m in \u001b[0;36m<cell line: 1>\u001b[0;34m()\u001b[0m\n\u001b[0;32m----> 1\u001b[0;31m \u001b[0;32mfrom\u001b[0m \u001b[0mfeat\u001b[0m\u001b[0;34m.\u001b[0m\u001b[0mplotting\u001b[0m \u001b[0;32mimport\u001b[0m \u001b[0mplot_face\u001b[0m\u001b[0;34m\u001b[0m\u001b[0;34m\u001b[0m\u001b[0m\n\u001b[0m\u001b[1;32m      2\u001b[0m \u001b[0;34m\u001b[0m\u001b[0m\n\u001b[1;32m      3\u001b[0m plot_face(\n\u001b[1;32m      4\u001b[0m     \u001b[0mau\u001b[0m\u001b[0;34m=\u001b[0m\u001b[0mmodels\u001b[0m\u001b[0;34m[\u001b[0m\u001b[0;34m'aus'\u001b[0m\u001b[0;34m]\u001b[0m\u001b[0;34m[\u001b[0m\u001b[0;36m1\u001b[0m\u001b[0;34m]\u001b[0m\u001b[0;34m.\u001b[0m\u001b[0mcoef_\u001b[0m\u001b[0;34m.\u001b[0m\u001b[0msqueeze\u001b[0m\u001b[0;34m(\u001b[0m\u001b[0;34m)\u001b[0m\u001b[0;34m,\u001b[0m \u001b[0;31m# the LDA coefs from the AUs pipeline model\u001b[0m\u001b[0;34m\u001b[0m\u001b[0;34m\u001b[0m\u001b[0m\n\u001b[1;32m      5\u001b[0m     \u001b[0mfeature_range\u001b[0m\u001b[0;34m=\u001b[0m\u001b[0;34m(\u001b[0m\u001b[0;36m0\u001b[0m\u001b[0;34m,\u001b[0m \u001b[0;36m1\u001b[0m\u001b[0;34m)\u001b[0m\u001b[0;34m,\u001b[0m\u001b[0;34m\u001b[0m\u001b[0;34m\u001b[0m\u001b[0m\n",
            "\u001b[0;31mModuleNotFoundError\u001b[0m: No module named 'feat'",
            "",
            "\u001b[0;31m---------------------------------------------------------------------------\u001b[0;32m\nNOTE: If your import is failing due to a missing package, you can\nmanually install dependencies using either !pip or !apt.\n\nTo view examples of installing some common dependencies, click the\n\"Open Examples\" button below.\n\u001b[0;31m---------------------------------------------------------------------------\u001b[0m\n"
          ],
          "errorDetails": {
            "actions": [
              {
                "action": "open_url",
                "actionText": "Open Examples",
                "url": "/notebooks/snippets/importing_libraries.ipynb"
              }
            ]
          }
        }
      ]
    }
  ]
}